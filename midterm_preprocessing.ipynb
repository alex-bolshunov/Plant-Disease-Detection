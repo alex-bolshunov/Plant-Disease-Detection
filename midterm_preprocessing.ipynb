{
  "nbformat": 4,
  "nbformat_minor": 0,
  "metadata": {
    "colab": {
      "provenance": [],
      "mount_file_id": "1iA21_762M66nwpHjNZP3wq33-1FbuOrU",
      "authorship_tag": "ABX9TyPpPthdU0cXW1h9VSEFuldw",
      "include_colab_link": true
    },
    "kernelspec": {
      "name": "python3",
      "display_name": "Python 3"
    },
    "language_info": {
      "name": "python"
    }
  },
  "cells": [
    {
      "cell_type": "markdown",
      "metadata": {
        "id": "view-in-github",
        "colab_type": "text"
      },
      "source": [
        "<a href=\"https://colab.research.google.com/github/alex-bolshunov/Plant-Disease-Detection/blob/main/midterm_preprocessing.ipynb\" target=\"_parent\"><img src=\"https://colab.research.google.com/assets/colab-badge.svg\" alt=\"Open In Colab\"/></a>"
      ]
    },
    {
      "cell_type": "code",
      "source": [
        "%%capture\n",
        "!pip install img2vec-pytorch"
      ],
      "metadata": {
        "id": "Yd8Ufa-6Yxmf"
      },
      "execution_count": 16,
      "outputs": []
    },
    {
      "cell_type": "code",
      "execution_count": 17,
      "metadata": {
        "id": "39FdCygY4v3_"
      },
      "outputs": [],
      "source": [
        "import os\n",
        "#import cv2\n",
        "import pandas as pd\n",
        "from img2vec_pytorch import Img2Vec\n",
        "from google.colab import drive\n",
        "from PIL import Image"
      ]
    },
    {
      "cell_type": "code",
      "source": [
        "N_ROWS = 3\n",
        "IMG = \"image_path\"\n",
        "LBL = \"label\""
      ],
      "metadata": {
        "id": "1eDhxGmA5jrJ"
      },
      "execution_count": 18,
      "outputs": []
    },
    {
      "cell_type": "code",
      "source": [
        "%%capture\n",
        "\n",
        "#mount drive\n",
        "drive.mount('/content/drive')"
      ],
      "metadata": {
        "id": "mn7Fxp6lAU3R"
      },
      "execution_count": 19,
      "outputs": []
    },
    {
      "cell_type": "code",
      "source": [
        "#google drive path\n",
        "dataset_path = \"/content/drive/MyDrive/project_data\"\n",
        "\n",
        "#classes of interest\n",
        "classes = (\"Pepper__bell___healthy\", \"Pepper__bell___Bacterial_spot\")\n",
        "\n",
        "#data dictionary\n",
        "path_dict = {\n",
        "    IMG: [],\n",
        "    LBL: []\n",
        "}\n",
        "\n",
        "#feature dict\n",
        "features = []\n",
        "\n",
        "#errors\n",
        "err_indecies = []"
      ],
      "metadata": {
        "id": "6GhGDpUc75WA"
      },
      "execution_count": 20,
      "outputs": []
    },
    {
      "cell_type": "code",
      "source": [
        "%%capture\n",
        "\n",
        "#define img2vec\n",
        "img2vec = Img2Vec()"
      ],
      "metadata": {
        "id": "0TZH0llelW6U"
      },
      "execution_count": 21,
      "outputs": []
    },
    {
      "cell_type": "code",
      "source": [
        "#loop over the folder, save paths to images and associated class label into data dict, create a dataframe\n",
        "#extracting features\n",
        "for class_name in os.listdir(dataset_path):\n",
        "\n",
        "  if class_name in classes:\n",
        "    directory_path = os.path.join(dataset_path, class_name)\n",
        "\n",
        "    for i, image_name in enumerate(os.listdir(directory_path)):\n",
        "      image_path = os.path.join(directory_path, image_name)\n",
        "\n",
        "\n",
        "      try:\n",
        "        img = Image.open(image_path)\n",
        "        fs = img2vec.get_vec(img)\n",
        "\n",
        "        path_dict[IMG].append(image_path)\n",
        "        path_dict[LBL].append(class_name)\n",
        "        features.append(fs)\n",
        "      except:\n",
        "        err_indecies.append(i)\n",
        "\n",
        "df_path = pd.DataFrame(path_dict)\n",
        "df = pd.DataFrame(features).join(df_path.loc[:, LBL])"
      ],
      "metadata": {
        "id": "wddEEw4251-o"
      },
      "execution_count": 22,
      "outputs": []
    },
    {
      "cell_type": "code",
      "source": [
        "#save df\n",
        "df_path.to_csv(\"paths.csv\", index = False)\n",
        "df.to_csv(\"dataframe.csv\", index = False)"
      ],
      "metadata": {
        "id": "r08CUYY1-5IU"
      },
      "execution_count": 23,
      "outputs": []
    },
    {
      "cell_type": "code",
      "source": [
        "for e in err_indecies: print(f\"Error index: {e}\")"
      ],
      "metadata": {
        "colab": {
          "base_uri": "https://localhost:8080/"
        },
        "id": "aR2WQ8dXLDP5",
        "outputId": "67b6d80a-6974-4a63-db2e-387ee80df32b"
      },
      "execution_count": 24,
      "outputs": [
        {
          "output_type": "stream",
          "name": "stdout",
          "text": [
            "Error index: 375\n"
          ]
        }
      ]
    }
  ]
}