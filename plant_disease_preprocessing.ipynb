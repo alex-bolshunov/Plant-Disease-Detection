{
  "nbformat": 4,
  "nbformat_minor": 0,
  "metadata": {
    "colab": {
      "provenance": [],
      "mount_file_id": "1iA21_762M66nwpHjNZP3wq33-1FbuOrU",
      "authorship_tag": "ABX9TyM/qAXwvci4z7sm0XmC/SG+",
      "include_colab_link": true
    },
    "kernelspec": {
      "name": "python3",
      "display_name": "Python 3"
    },
    "language_info": {
      "name": "python"
    }
  },
  "cells": [
    {
      "cell_type": "markdown",
      "metadata": {
        "id": "view-in-github",
        "colab_type": "text"
      },
      "source": [
        "<a href=\"https://colab.research.google.com/github/alex-bolshunov/Plant-Disease-Detection/blob/main/plant_disease_preprocessing.ipynb\" target=\"_parent\"><img src=\"https://colab.research.google.com/assets/colab-badge.svg\" alt=\"Open In Colab\"/></a>"
      ]
    },
    {
      "cell_type": "code",
      "source": [
        "%%capture\n",
        "!pip install img2vec-pytorch"
      ],
      "metadata": {
        "id": "Yd8Ufa-6Yxmf"
      },
      "execution_count": 1,
      "outputs": []
    },
    {
      "cell_type": "code",
      "execution_count": 2,
      "metadata": {
        "id": "39FdCygY4v3_"
      },
      "outputs": [],
      "source": [
        "import os\n",
        "import pandas as pd\n",
        "from img2vec_pytorch import Img2Vec\n",
        "from google.colab import drive\n",
        "from PIL import Image\n",
        "\n",
        "import matplotlib.pyplot as plt\n",
        "import numpy as np"
      ]
    },
    {
      "cell_type": "code",
      "source": [
        "N_ROWS = 3\n",
        "N_FEATURES = 512\n",
        "IMG = \"image_path\"\n",
        "LBL = \"label\"\n",
        "DGR = \"degrees\"\n",
        "SCL = \"scale\"\n",
        "\n",
        "PROB = 0.5"
      ],
      "metadata": {
        "id": "1eDhxGmA5jrJ"
      },
      "execution_count": 3,
      "outputs": []
    },
    {
      "cell_type": "code",
      "source": [
        "class Image_Augmentation:\n",
        "  def __init__(self):\n",
        "    self.prob = 0.5\n",
        "\n",
        "  def _random_binary(self, prob):\n",
        "    \"\"\"\n",
        "    Accept probability from 0 to 1\n",
        "    prob: probability of 1, float\n",
        "    Return 0 or 1 based on probability\n",
        "    \"\"\"\n",
        "    if prob is None: prob = self.prob\n",
        "\n",
        "    return np.random.choice([0,1], p = [1 - prob, prob])\n",
        "\n",
        "  # def random_img_rescaling(path, prob):\n",
        "\n",
        "\n",
        "  def random_img_rotation(self, img, prob = None):\n",
        "    \"\"\"\n",
        "    Accept image, and probability of rotation.\n",
        "    path: string,\n",
        "    path float.\n",
        "    Return roatated images with probability of prob, degree of rotation\n",
        "    \"\"\"\n",
        "\n",
        "    degrees = (90, 180, 270)\n",
        "    degree = 0\n",
        "\n",
        "    if self._random_binary(prob):\n",
        "      degree = np.random.choice(degrees)\n",
        "      img = img.rotate(degree, expand = True)\n",
        "\n",
        "    return img, degree\n",
        "\n",
        "  def random_img_rescaling(self, img, prob = None, scale = [1]):\n",
        "    \"\"\"\n",
        "    Accepts image, probability of rescaling, list of scale values\n",
        "    path: string,\n",
        "    prob: float,\n",
        "    scale: list of floats\n",
        "    Return rescaled images with probability of prob, scale\n",
        "    \"\"\"\n",
        "    s = 1\n",
        "\n",
        "    if self._random_binary(prob):\n",
        "      s = np.random.choice(scale)\n",
        "      new_size = (int(img.width * s), int(img.height * s))\n",
        "      img = img.resize(new_size, Image.Resampling.LANCZOS)\n",
        "\n",
        "    return img, s"
      ],
      "metadata": {
        "id": "LXQwR2-P7b-g"
      },
      "execution_count": 4,
      "outputs": []
    },
    {
      "cell_type": "code",
      "source": [
        "%%capture\n",
        "\n",
        "#mount drive\n",
        "drive.mount('/content/drive')"
      ],
      "metadata": {
        "id": "mn7Fxp6lAU3R"
      },
      "execution_count": 5,
      "outputs": []
    },
    {
      "cell_type": "code",
      "source": [
        "#google drive path\n",
        "dataset_path = \"/content/drive/MyDrive/project_data_potatos\"\n",
        "\n",
        "#classes of interest\n",
        "classes = (\"Potato___Early_blight\", \"Potato___healthy\", \"Potato___Late_blight\")\n",
        "\n",
        "#data dictionary\n",
        "path_dict = {\n",
        "    IMG: [],\n",
        "    DGR: [],\n",
        "    SCL: [],\n",
        "    LBL: []\n",
        "}\n",
        "\n",
        "#feature dict\n",
        "features = []\n",
        "\n",
        "#errors\n",
        "err_indecies = []"
      ],
      "metadata": {
        "id": "6GhGDpUc75WA"
      },
      "execution_count": 6,
      "outputs": []
    },
    {
      "cell_type": "code",
      "source": [
        "%%capture\n",
        "\n",
        "#initiate img2vec\n",
        "img2vec = Img2Vec()\n",
        "\n",
        "#initiate class instance\n",
        "img_aug = Image_Augmentation()"
      ],
      "metadata": {
        "id": "0TZH0llelW6U"
      },
      "execution_count": 7,
      "outputs": []
    },
    {
      "cell_type": "code",
      "source": [
        "#loop over the folder, save paths to images and associated class label into data dict, create a dataframe\n",
        "#extracting features\n",
        "for class_name in os.listdir(dataset_path):\n",
        "\n",
        "  if class_name in classes:\n",
        "    directory_path = os.path.join(dataset_path, class_name)\n",
        "\n",
        "    for i, image_name in enumerate(os.listdir(directory_path)):\n",
        "      image_path = os.path.join(directory_path, image_name)\n",
        "\n",
        "\n",
        "      try:\n",
        "        img = Image.open(image_path)\n",
        "        img, degree = img_aug.random_img_rotation(img) #randomly rotate image\n",
        "        img, scale = img_aug.random_img_rescaling(img, scale = [1.2, 1.5, 1.7]) #randomly scale image\n",
        "\n",
        "        fs = img2vec.get_vec(img)\n",
        "\n",
        "        path_dict[IMG].append(image_path)\n",
        "        path_dict[DGR].append(degree)\n",
        "        path_dict[SCL].append(scale)\n",
        "        path_dict[LBL].append(class_name)\n",
        "        features.append(fs)\n",
        "      except:\n",
        "         err_indecies.append(i)\n",
        "\n",
        "\n",
        "df_path = pd.DataFrame(path_dict)\n",
        "df = pd.DataFrame(features).join(df_path.loc[:, LBL])"
      ],
      "metadata": {
        "id": "wddEEw4251-o"
      },
      "execution_count": 8,
      "outputs": []
    },
    {
      "cell_type": "code",
      "source": [
        "#save df\n",
        "df_path.to_csv(\"paths.csv\", index = False)\n",
        "df.to_csv(\"dataframe.csv\", index = False)"
      ],
      "metadata": {
        "id": "r08CUYY1-5IU"
      },
      "execution_count": 9,
      "outputs": []
    },
    {
      "cell_type": "code",
      "source": [
        "for e in err_indecies: print(f\"Error index: {e}\")"
      ],
      "metadata": {
        "id": "aR2WQ8dXLDP5"
      },
      "execution_count": 10,
      "outputs": []
    }
  ]
}